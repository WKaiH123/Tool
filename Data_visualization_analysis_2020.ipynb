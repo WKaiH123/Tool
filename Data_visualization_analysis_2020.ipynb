{
 "cells": [
  {
   "cell_type": "code",
   "execution_count": 2,
   "metadata": {},
   "outputs": [],
   "source": [
    "import seaborn as sns\n",
    "import pandas as pd\n",
    "import matplotlib.pyplot as plt\n",
    "import numpy as np"
   ]
  },
  {
   "cell_type": "markdown",
   "metadata": {},
   "source": [
    "# Conventional figure"
   ]
  },
  {
   "cell_type": "markdown",
   "metadata": {},
   "source": [
    "![82](./img/82.png)"
   ]
  },
  {
   "cell_type": "markdown",
   "metadata": {},
   "source": [
    "## 设置"
   ]
  },
  {
   "cell_type": "markdown",
   "metadata": {},
   "source": [
    "### 创建"
   ]
  },
  {
   "cell_type": "markdown",
   "metadata": {},
   "source": [
    "#### 普通画布创建   \n",
    "[plt.figure](https://matplotlib.org/3.1.1/api/_as_gen/matplotlib.pyplot.figure.html)"
   ]
  },
  {
   "cell_type": "code",
   "execution_count": null,
   "metadata": {},
   "outputs": [],
   "source": [
    "plt.figure() "
   ]
  },
  {
   "cell_type": "markdown",
   "metadata": {},
   "source": [
    "#### 设置画布大小"
   ]
  },
  {
   "cell_type": "code",
   "execution_count": null,
   "metadata": {},
   "outputs": [],
   "source": [
    "plt.figure(figsize=(10,20)) "
   ]
  },
  {
   "cell_type": "markdown",
   "metadata": {},
   "source": [
    "### 保存\n",
    "[plt.savefig](https://matplotlib.org/3.1.1/api/_as_gen/matplotlib.pyplot.savefig.html)"
   ]
  },
  {
   "cell_type": "code",
   "execution_count": null,
   "metadata": {},
   "outputs": [],
   "source": [
    "plt.savefig(path)"
   ]
  },
  {
   "cell_type": "markdown",
   "metadata": {},
   "source": [
    "#### 去白保存"
   ]
  },
  {
   "cell_type": "code",
   "execution_count": null,
   "metadata": {},
   "outputs": [],
   "source": [
    "plt.savefig(path,bbox_inches=\"tight\")"
   ]
  },
  {
   "cell_type": "markdown",
   "metadata": {},
   "source": [
    "#### 设置xticks数量"
   ]
  },
  {
   "cell_type": "code",
   "execution_count": null,
   "metadata": {},
   "outputs": [],
   "source": [
    "import matplotlib.ticker as ticker\n",
    "ax = fig.add_subplot(111)\n",
    "ax.xaxis.set_major_locator(ticker.MultipleLocator(40))"
   ]
  },
  {
   "cell_type": "markdown",
   "metadata": {},
   "source": [
    "#### 设置科学计量法"
   ]
  },
  {
   "cell_type": "code",
   "execution_count": null,
   "metadata": {},
   "outputs": [],
   "source": [
    "plt.ticklabel_format(axis='y', style='sci',scilimits=(4,6))"
   ]
  },
  {
   "cell_type": "markdown",
   "metadata": {},
   "source": [
    "## 直方图 和 条形图"
   ]
  },
  {
   "cell_type": "code",
   "execution_count": null,
   "metadata": {},
   "outputs": [],
   "source": [
    "import seaborn as sns\n",
    "\n",
    "plt.figure(figsize=(8,8))\n",
    "sns.distplot(life_time)\n",
    "plt.show()"
   ]
  },
  {
   "cell_type": "markdown",
   "metadata": {},
   "source": [
    "![9](./img/9.png)"
   ]
  },
  {
   "cell_type": "code",
   "execution_count": null,
   "metadata": {},
   "outputs": [],
   "source": [
    "from scipy.stats import norm\n",
    "import seaborn as sns\n",
    "\n",
    "plt.figure(figsize=(8,8))\n",
    "sns.distplot(np.log(life_time),fit=norm)\n",
    "plt.show()"
   ]
  },
  {
   "cell_type": "markdown",
   "metadata": {},
   "source": [
    "![10](./img/10.png)"
   ]
  },
  {
   "cell_type": "code",
   "execution_count": null,
   "metadata": {},
   "outputs": [],
   "source": [
    "plt.figure(figsize=(8,8))\n",
    "sns.distplot(np.abs(data.drop(columns=[\"名字\",\"ID\"]).corr()[p_name][:-1].values),label=\"pearson\",bins=20)\n",
    "plt.savefig(\"./fig/W3_f.pdf\")\n",
    "plt.show()"
   ]
  },
  {
   "cell_type": "markdown",
   "metadata": {},
   "source": [
    "![14](./img/14.png)"
   ]
  },
  {
   "cell_type": "code",
   "execution_count": null,
   "metadata": {},
   "outputs": [],
   "source": [
    "plt.figure(figsize=(15,8))\n",
    "sns.set_palette(\"hls\") #设置所有图的颜色，使用hls色彩空间\n",
    "sns.distplot(da[cn],color=\"r\",bins=30,kde=True)\n",
    "plt.title(infected_seq[n][1][-1])"
   ]
  },
  {
   "cell_type": "markdown",
   "metadata": {},
   "source": [
    "![52](./img/52.png)"
   ]
  },
  {
   "cell_type": "code",
   "execution_count": null,
   "metadata": {},
   "outputs": [],
   "source": [
    "path = \"E:/ZYF/WH/Data/predict_week_later_new3.csv\"\n",
    "data3 = pd.read_csv(path)\n",
    "path = \"E:/ZYF/WH/Data/predict_week_later_new4.csv\"\n",
    "data4 = pd.read_csv(path)\n",
    "data3 = data3[data3[\"Time\"]<\"2020-03-31\"]\n",
    "data4 = data4[data4[\"Time\"]<\"2020-03-31\"]\n",
    "dc3 = data3.corr(method=\"pearson\")\n",
    "dc4 = data4.corr(method=\"pearson\")\n",
    "d3 = dc3.sort_values(by=\"Y\")[\"Y\"][:-1]\n",
    "d4 = dc4.sort_values(by=\"Y\")[\"Y\"][:-1]\n",
    "plt.figure(figsize=(8,8))\n",
    "sns.distplot(d3,label=\"Daily Confirmed(including test)\")\n",
    "sns.distplot(d4,label=\"Daily Confirmed\")\n",
    "plt.legend()\n",
    "plt.xlabel(\"\")\n",
    "plt.savefig(\"./final_plot/pearson_34.pdf\")\n",
    "plt.show()"
   ]
  },
  {
   "cell_type": "markdown",
   "metadata": {},
   "source": [
    "![125](./img/125.png)"
   ]
  },
  {
   "cell_type": "code",
   "execution_count": null,
   "metadata": {},
   "outputs": [],
   "source": [
    "life_time[\"labels\"] = pd.cut(x=life_time[\"life_time\"],bins=[0,7,14,21,28,35,42,49,56,63,70,100000],\n",
    "       right=False,\n",
    "       labels=[\"0-1\",\"1-2\",\"2-3\",\"3-4\",\"4-5\",\"5-6\",\"6-7\",\"7-8\",\"8-9\",\"9-10\",\"10+\"])\n",
    "\n",
    "plt.figure(figsize=(8,8))\n",
    "sns.countplot(x=\"labels\", data=life_time)\n",
    "plt.xlabel(\"上映时长(周)\")\n",
    "plt.ylabel(\"Counts\")\n",
    "plt.show()"
   ]
  },
  {
   "cell_type": "markdown",
   "metadata": {},
   "source": [
    "![11](./img/11.png)"
   ]
  },
  {
   "cell_type": "code",
   "execution_count": null,
   "metadata": {},
   "outputs": [],
   "source": [
    "plt.figure(figsize=(8,8))\n",
    "sns.barplot(x=\"周数\",y=\"平均周票房(万)\",data=week_avr)\n",
    "plt.ylabel(\"周票房(万)\")\n",
    "plt.xlabel(\"周\")\n",
    "plt.savefig(\"./fig/week_zbf.pdf\")\n",
    "plt.show()"
   ]
  },
  {
   "cell_type": "markdown",
   "metadata": {},
   "source": [
    "![12](./img/12.png)"
   ]
  },
  {
   "cell_type": "code",
   "execution_count": null,
   "metadata": {},
   "outputs": [],
   "source": [
    "plt.figure(figsize=(8,8))\n",
    "sns.barplot(x=\"上映日期_年\",y=p_name,data=data,capsize=.2)\n",
    "plt.savefig(\"./fig/W3_zbof.pdf\")\n",
    "plt.show()"
   ]
  },
  {
   "cell_type": "markdown",
   "metadata": {},
   "source": [
    "![15](./img/15.png)"
   ]
  },
  {
   "cell_type": "code",
   "execution_count": null,
   "metadata": {},
   "outputs": [],
   "source": [
    "# 分组绘图\n",
    "ax = sns.countplot(x=\"class\", hue=\"who\", data=titanic)\n",
    "\n",
    "# 如果是横着放，x用y替代\n",
    "ax = sns.countplot(y=\"class\", hue=\"who\", data=titanic)"
   ]
  },
  {
   "cell_type": "markdown",
   "metadata": {},
   "source": [
    "![93](./img/93.png)"
   ]
  },
  {
   "cell_type": "code",
   "execution_count": null,
   "metadata": {},
   "outputs": [],
   "source": [
    "video_game[\"Day\"].value_counts().plot.barh(figsize = (12,6),fontsize = 14)\n",
    "plt.grid(axis=\"x\")"
   ]
  },
  {
   "cell_type": "markdown",
   "metadata": {},
   "source": [
    "![21](./img/21.png)"
   ]
  },
  {
   "cell_type": "code",
   "execution_count": null,
   "metadata": {},
   "outputs": [],
   "source": [
    "sns.countplot(y=\"Day\",data=video_game)"
   ]
  },
  {
   "cell_type": "markdown",
   "metadata": {},
   "source": [
    "![22](./img/22.png)"
   ]
  },
  {
   "cell_type": "code",
   "execution_count": null,
   "metadata": {},
   "outputs": [],
   "source": [
    "# 柱状图 - 置信区间估计  \n",
    "sns.barplot(x=\"day\", y=\"total_bill\", hue=\"sex\", data=tips,\n",
    "            palette = 'Blues',edgecolor = 'w')\n",
    "tips.groupby(['day','sex']).mean()       # 计算数据\n",
    "\n",
    "crashes = sns.load_dataset(\"car_crashes\").sort_values(\"total\", ascending=False)    # 加载数据\n",
    "f, ax = plt.subplots(figsize=(6, 15))    # 创建图表\n",
    "sns.set_color_codes(\"pastel\")          # 设置第一个柱状图\n",
    "sns.barplot(x=\"total\", y=\"abbrev\", data=crashes,\n",
    "            label=\"Total\", color=\"b\",edgecolor = 'w')\n",
    "sns.set_color_codes(\"muted\")      # 设置第二个柱状图\n",
    "sns.barplot(x=\"alcohol\", y=\"abbrev\", data=crashes,\n",
    "            label=\"Alcohol-involved\", color=\"b\",edgecolor = 'w')\n",
    "ax.legend(ncol=2, loc=\"lower right\")\n",
    "sns.despine(left=True, bottom=True)"
   ]
  },
  {
   "cell_type": "markdown",
   "metadata": {},
   "source": [
    "![103](./img/103.png)"
   ]
  },
  {
   "cell_type": "code",
   "execution_count": null,
   "metadata": {},
   "outputs": [],
   "source": [
    "plt.hist(x = Titanic[\"Age\"], # 指定绘图数据\n",
    "          bins = 20, # 指定直方图中条块的个数\n",
    "         color = 'steelblue', # 指定直方图的填充色\n",
    "         edgecolor = 'black' # 指定直方图的边框色\n",
    "      )\n",
    "# 添加x轴和y轴标签\n",
    "plt.xlabel('年龄')\n",
    "plt.ylabel('频数')\n",
    "# 添加标题\n",
    "plt.title('乘客年龄分布')\n",
    "# 显示图形\n",
    "plt.show()"
   ]
  },
  {
   "cell_type": "markdown",
   "metadata": {},
   "source": [
    "![65](./img/65.png)"
   ]
  },
  {
   "cell_type": "code",
   "execution_count": null,
   "metadata": {},
   "outputs": [],
   "source": [
    "Titanic = pd.read_csv('titanic_train.csv')\n",
    " # 绘制直方图\n",
    "Titanic.Age.plot(kind = 'hist', bins = 20, color = 'steelblue', edgecolor = 'black', normed = True, label = '直方图')\n",
    "# 绘制核密度图\n",
    "Titanic.Age.plot(kind = 'kde', color = 'red', label = '核密度图')\n",
    "# 添加x轴和y轴标签\n",
    "plt.xlabel('年龄')\n",
    "plt.ylabel('核密度值')\n",
    "# 添加标题\n",
    "plt.title('乘客年龄分布')\n",
    "# 显示图例\n",
    "plt.legend()\n",
    "# 显示图形\n",
    "plt.show()"
   ]
  },
  {
   "cell_type": "markdown",
   "metadata": {},
   "source": [
    "![66](./img/66.png)"
   ]
  },
  {
   "cell_type": "code",
   "execution_count": null,
   "metadata": {},
   "outputs": [],
   "source": [
    "y1 = np.arange(1,1001) #1000个客户排名\n",
    "y2 = np.random.choice(y1,size=200,replace=False) #无放回地从y1中抽取200个客户\n",
    "y3 = [y1,y2]\n",
    "fig = plt.figure(figsize=(16,6)) #创建幕布\n",
    "ax = fig.add_subplot(121) #截取幕布的一部分，121是简写，表示1行2列中的第1个图\n",
    "ns,edgeBin,patches = plt.hist(y3,bins=20,rwidth=0.8)\n",
    "plt.title('全量客户排名与新增客户排名分布对比')\n",
    "ax = fig.add_subplot(122)\n",
    "ns,edgeBin,patches = plt.hist(y2,bins=20,rwidth=0.8)\n",
    "plt.title('新增客户排名分布')"
   ]
  },
  {
   "cell_type": "markdown",
   "metadata": {},
   "source": [
    "![67](./img/67.png)"
   ]
  },
  {
   "cell_type": "code",
   "execution_count": null,
   "metadata": {},
   "outputs": [],
   "source": [
    "label_list = ['2014', '2015', '2016', '2017']\n",
    "num_list1 = [20, 30, 15, 35]\n",
    "num_list2 = [15, 30, 40, 20]\n",
    "x = range(len(num_list1))\n",
    "rects1 = plt.bar(left=x, height=num_list1, width=0.45, alpha=0.8, color='red', label=\"一部门\")\n",
    "rects2 = plt.bar(left=x, height=num_list2, width=0.45, color='green', label=\"二部门\", bottom=num_list1)\n",
    "plt.ylim(0, 80)\n",
    "plt.ylabel(\"数量\")\n",
    "plt.xticks(x, label_list)\n",
    "plt.xlabel(\"年份\")\n",
    "plt.title(\"某某公司\")\n",
    "plt.legend()\n",
    "plt.show()"
   ]
  },
  {
   "cell_type": "markdown",
   "metadata": {},
   "source": [
    "![68](./img/68.png)"
   ]
  },
  {
   "cell_type": "code",
   "execution_count": null,
   "metadata": {},
   "outputs": [],
   "source": [
    "sns.set(style=\"darkgrid\")\n",
    "# 获取数据\n",
    "titanic = sns.load_dataset(\"titanic\")\n",
    "\"\"\"\n",
    "案例6：绘制空心的直方图\n",
    "\"\"\"\n",
    "sns.countplot(x=\"who\", data=titanic,\n",
    "              facecolor=(0, 0, 0, 0),\n",
    "              linewidth=5,\n",
    "              edgecolor=sns.color_palette(\"dark\", 3))\n",
    "plt.show()"
   ]
  },
  {
   "cell_type": "markdown",
   "metadata": {},
   "source": [
    "![109](./img/109.png)"
   ]
  },
  {
   "cell_type": "code",
   "execution_count": null,
   "metadata": {},
   "outputs": [],
   "source": [
    "# Prepare Data\n",
    "df = pd.read_csv(\"https://github.com/selva86/datasets/raw/master/mtcars.csv\")\n",
    "x = df.loc[:, ['mpg']]\n",
    "df['mpg_z'] = (x - x.mean())/x.std()\n",
    "df['colors'] = ['red' if x < 0 else 'green' for x in df['mpg_z']]\n",
    "df.sort_values('mpg_z', inplace=True)\n",
    "df.reset_index(inplace=True)\n",
    "\n",
    "# Draw plot\n",
    "plt.figure(figsize=(14,14), dpi= 80)\n",
    "plt.hlines(y=df.index, xmin=0, xmax=df.mpg_z)\n",
    "for x, y, tex in zip(df.mpg_z, df.index, df.mpg_z):\n",
    "    t = plt.text(x, y, round(tex, 2), horizontalalignment='right' if x < 0 else 'left',\n",
    "                 verticalalignment='center', fontdict={'color':'red' if x < 0 else 'green', 'size':14})\n",
    "\n",
    "# Decorations    \n",
    "plt.yticks(df.index, df.cars, fontsize=12)\n",
    "plt.title('Diverging Text Bars of Car Mileage', fontdict={'size':20})\n",
    "plt.grid(linestyle='--', alpha=0.5)\n",
    "plt.xlim(-2.5, 2.5)\n",
    "plt.show()"
   ]
  },
  {
   "cell_type": "markdown",
   "metadata": {},
   "source": [
    "![110](./img/110.png)"
   ]
  },
  {
   "cell_type": "code",
   "execution_count": null,
   "metadata": {},
   "outputs": [],
   "source": [
    "# Prepare Data\n",
    "df = pd.read_csv(\"https://github.com/selva86/datasets/raw/master/mtcars.csv\")\n",
    "x = df.loc[:, ['mpg']]\n",
    "df['mpg_z'] = (x - x.mean())/x.std()\n",
    "df['colors'] = ['red' if x < 0 else 'darkgreen' for x in df['mpg_z']]\n",
    "df.sort_values('mpg_z', inplace=True)\n",
    "df.reset_index(inplace=True)\n",
    "\n",
    "\n",
    "# Draw plot\n",
    "plt.figure(figsize=(14,16), dpi= 80)\n",
    "plt.scatter(df.mpg_z, df.index, s=450, alpha=.6, color=df.colors)\n",
    "\n",
    "for x, y, tex in zip(df.mpg_z, df.index, df.mpg_z):\n",
    "    t = plt.text(x, y, round(tex, 1), horizontalalignment='center',\n",
    "                 verticalalignment='center', fontdict={'color':'white'})\n",
    "\n",
    "# Decorations\n",
    "\n",
    "# Lighten borders\n",
    "plt.gca().spines[\"top\"].set_alpha(.3)\n",
    "plt.gca().spines[\"bottom\"].set_alpha(.3)\n",
    "plt.gca().spines[\"right\"].set_alpha(.3)\n",
    "plt.gca().spines[\"left\"].set_alpha(.3)\n",
    "\n",
    "plt.yticks(df.index, df.cars)\n",
    "plt.title('Diverging Dotplot of Car Mileage', fontdict={'size':20})\n",
    "plt.xlabel('$Mileage$')\n",
    "plt.grid(linestyle='--', alpha=0.5)\n",
    "plt.xlim(-2.5, 2.5)\n",
    "plt.show()"
   ]
  },
  {
   "cell_type": "markdown",
   "metadata": {},
   "source": [
    "![111](./img/111.png)"
   ]
  },
  {
   "cell_type": "code",
   "execution_count": null,
   "metadata": {},
   "outputs": [],
   "source": [
    "# Prepare Data\n",
    "\n",
    "df_raw = pd.read_csv(\"https://github.com/selva86/datasets/raw/master/mpg_ggplot2.csv\")\n",
    "df = df_raw[['cty', 'manufacturer']].groupby('manufacturer').apply(lambda x: x.mean())\n",
    "df.sort_values('cty', inplace=True)\n",
    "df.reset_index(inplace=True)\n",
    "\n",
    "# Draw plot\n",
    "fig, ax = plt.subplots(figsize=(16,10), dpi= 80)\n",
    "ax.vlines(x=df.index, ymin=0, ymax=df.cty, color='firebrick', alpha=0.7, linewidth=2)\n",
    "ax.scatter(x=df.index, y=df.cty, s=75, color='firebrick', alpha=0.7)\n",
    "\n",
    "# Title, Label, Ticks and Ylim\n",
    "ax.set_title('Lollipop Chart for Highway Mileage', fontdict={'size':22})\n",
    "ax.set_ylabel('Miles Per Gallon')\n",
    "ax.set_xticks(df.index)\n",
    "ax.set_xticklabels(df.manufacturer.str.upper(), rotation=60, fontdict={'horizontalalignment': 'right', 'size':12})\n",
    "ax.set_ylim(0, 30)\n",
    "\n",
    "# Annotate\n",
    "for row in df.itertuples():\n",
    "    ax.text(row.Index, row.cty+.5, s=round(row.cty, 2), horizontalalignment= 'center', verticalalignment='bottom', fontsize=14)\n",
    "plt.show()"
   ]
  },
  {
   "cell_type": "markdown",
   "metadata": {},
   "source": [
    "![112](./img/112.png)"
   ]
  },
  {
   "cell_type": "code",
   "execution_count": null,
   "metadata": {},
   "outputs": [],
   "source": [
    "# Prepare Data\n",
    "\n",
    "df_raw = pd.read_csv(\"https://github.com/selva86/datasets/raw/master/mpg_ggplot2.csv\")\n",
    "df = df_raw[['cty', 'manufacturer']].groupby('manufacturer').apply(lambda x: x.mean())\n",
    "df.sort_values('cty', inplace=True)\n",
    "df.reset_index(inplace=True)\n",
    "\n",
    "# Draw plot\n",
    "fig, ax = plt.subplots(figsize=(16,10), dpi= 80)\n",
    "ax.hlines(y=df.index, xmin=11, xmax=26, color='gray', alpha=0.7, linewidth=1, linestyles='dashdot')\n",
    "ax.scatter(y=df.index, x=df.cty, s=75, color='firebrick', alpha=0.7)\n",
    "\n",
    "\n",
    "# Title, Label, Ticks and Ylim\n",
    "ax.set_title('Dot Plot for Highway Mileage', fontdict={'size':22})\n",
    "ax.set_xlabel('Miles Per Gallon')\n",
    "ax.set_yticks(df.index)\n",
    "ax.set_yticklabels(df.manufacturer.str.title(), fontdict={'horizontalalignment': 'right'})\n",
    "ax.set_xlim(10, 27)\n",
    "plt.show()"
   ]
  },
  {
   "cell_type": "markdown",
   "metadata": {},
   "source": [
    "![113](./img/113.png)"
   ]
  },
  {
   "cell_type": "code",
   "execution_count": null,
   "metadata": {},
   "outputs": [],
   "source": [
    "# Import Data\n",
    "df = pd.read_csv(\"https://github.com/selva86/datasets/raw/master/mpg_ggplot2.csv\")\n",
    "\n",
    "# Prepare data\n",
    "x_var = 'displ'\n",
    "groupby_var = 'class'\n",
    "df_agg = df.loc[:, [x_var, groupby_var]].groupby(groupby_var)\n",
    "vals = [df[x_var].values.tolist() for i, df in df_agg]\n",
    "\n",
    "# Draw\n",
    "plt.figure(figsize=(16,9), dpi= 80)\n",
    "colors = [plt.cm.Spectral(i/float(len(vals)-1)) for i in range(len(vals))]\n",
    "n, bins, patches = plt.hist(vals, 30, stacked=True, density=False, color=colors[:len(vals)])\n",
    "\n",
    "# Decoration\n",
    "plt.legend({group:col for group, col in zip(np.unique(df[groupby_var]).tolist(), colors[:len(vals)])})\n",
    "plt.title(f\"Stacked Histogram of ${x_var}$ colored by ${groupby_var}$\", fontsize=22)\n",
    "plt.xlabel(x_var)\n",
    "plt.ylabel(\"Frequency\")\n",
    "plt.ylim(0, 25)\n",
    "plt.xticks(ticks=bins[::3], labels=[round(b,1) for b in bins[::3]])\n",
    "plt.show()"
   ]
  },
  {
   "cell_type": "markdown",
   "metadata": {},
   "source": [
    "![114](./img/114.png)"
   ]
  },
  {
   "cell_type": "code",
   "execution_count": null,
   "metadata": {},
   "outputs": [],
   "source": [
    "fig = plt.figure(figsize=(15, 8))\n",
    "ax1 = fig.add_subplot(111)\n",
    "#plt.figure(figsize=(15,10))   \n",
    "bar= sns.barplot(x = 'Date',y = 'Values',data= data,hue = 'Label',dodge = False)\n",
    "#bar.set(xticks=data['Date'].tolist())      另外设置横坐标刻度\n",
    "#plt.xticks([],rotation=45)          控制横坐标的角度\n",
    "#plt.gca().xaxis.set_major_locator(ticker.MultipleLocator(25))   控制横坐标刻度"
   ]
  },
  {
   "cell_type": "markdown",
   "metadata": {},
   "source": [
    "![121](./img/121.png)"
   ]
  },
  {
   "cell_type": "code",
   "execution_count": null,
   "metadata": {},
   "outputs": [],
   "source": [
    "# Read data\n",
    "\n",
    "df = pd.read_csv(\"https://raw.githubusercontent.com/selva86/datasets/master/email_campaign_funnel.csv\")\n",
    "\n",
    "# Draw Plot\n",
    "plt.figure(figsize=(13,10), dpi= 80)\n",
    "group_col = 'Gender'\n",
    "order_of_bars = df.Stage.unique()[::-1]\n",
    "colors = [plt.cm.Spectral(i/float(len(df[group_col].unique())-1)) for i in range(len(df[group_col].unique()))]\n",
    "\n",
    "for c, group in zip(colors, df[group_col].unique()):\n",
    "    sns.barplot(x='Users', y='Stage', data=df.loc[df[group_col]==group, :], order=order_of_bars, color=c, label=group)\n",
    "\n",
    "# Decorations    \n",
    "plt.xlabel(\"$Users$\")\n",
    "plt.ylabel(\"Stage of Purchase\")\n",
    "plt.yticks(fontsize=12)\n",
    "plt.title(\"Population Pyramid of the Marketing Funnel\", fontsize=22)\n",
    "plt.legend()\n",
    "plt.show()"
   ]
  },
  {
   "cell_type": "markdown",
   "metadata": {},
   "source": [
    "![118](./img/118.png)"
   ]
  },
  {
   "cell_type": "code",
   "execution_count": null,
   "metadata": {},
   "outputs": [],
   "source": [
    "NAME = [\"BLS(No Test)\",\"BLS(Add Test)\",\"RF-BLS\",\"Bagging-BLS\"]\n",
    "MSE = [5269788.4689,6845645.9479,3810331.7813,4878284.8769]\n",
    "MAD = [361.8861,638.1445,388.7653,319.1248]\n",
    "R2 = [0.99986,0.99982,0.99990,0.99987]\n",
    "R2_A = [0.99855,0.99980,0.99989,0.99986]\n",
    "RMSE = [2295.6020,2616.4186,1952.0072,2208.6840]\n",
    "MAE = [1161.8885,1526.3944,1048.3504,1130.3451]\n",
    "P = [NAME,MSE,MAD,MAE,RMSE,R2,R2_A]\n",
    "\n",
    "p = [\"MSE\",\"MAD\",\"MAE\",\"RMSE\",\"R2\",\"R2_adj\"]\n",
    "for i in p: \n",
    "    plt.figure(figsize=(8,8))\n",
    "    sns.barplot(x=\"Model\",y=i,data=R)\n",
    "    plt.ylabel(i,fontsize=30)\n",
    "    plt.xlabel(\"Model\",fontsize=30)\n",
    "    if(i[:2]==\"R2\"):\n",
    "        plt.ylim(0.99,1)\n",
    "    plt.xticks(fontsize=15)\n",
    "    plt.yticks(fontsize=15)\n",
    "    plt.savefig(\"./Pic/paper/\"+i+\".pdf\",bbox_inches = 'tight')\n",
    "    plt.show()"
   ]
  },
  {
   "cell_type": "markdown",
   "metadata": {},
   "source": [
    "![124](./img/124.png)"
   ]
  },
  {
   "cell_type": "markdown",
   "metadata": {},
   "source": [
    "##  折线图 和 趋势变化"
   ]
  },
  {
   "cell_type": "markdown",
   "metadata": {},
   "source": [
    "![83](./img/83.png)"
   ]
  },
  {
   "cell_type": "markdown",
   "metadata": {},
   "source": [
    "![84](./img/84.png)"
   ]
  },
  {
   "cell_type": "code",
   "execution_count": null,
   "metadata": {},
   "outputs": [],
   "source": [
    "plt.figure()\n",
    "plt.plot(da[\"Weekly_Confirmed\"])\n",
    "plt.grid()\n",
    "plt.show()"
   ]
  },
  {
   "cell_type": "markdown",
   "metadata": {},
   "source": [
    "![126](./img/126.png)"
   ]
  },
  {
   "cell_type": "code",
   "execution_count": null,
   "metadata": {},
   "outputs": [],
   "source": [
    "color_sequence = ['#1f77b4', '#aec7e8', '#ff7f0e', '#ffbb78', '#2ca02c',\n",
    "                  '#98df8a', '#d62728', '#ff9896', '#9467bd', '#c5b0d5',\n",
    "                  '#8c564b', '#c49c94', '#e377c2', '#f7b6d2', '#7f7f7f',\n",
    "                  '#c7c7c7', '#bcbd22', '#dbdb8d', '#17becf', '#9edae5']\n",
    "xs = [datetime.strptime(str(d), '%Y') for d in year]\n",
    "fig = plt.figure(figsize=(20, 10))\n",
    "ax1 = fig.add_subplot(111)\n",
    "ax1.plot(xs, box_office, '-o',label=\"box office\", color=color_sequence[8], linewidth=5,markersize=15);\n",
    "ax1.legend(loc=2)\n",
    "ax1.set_ylabel('Box office',fontsize=20)\n",
    "ax1.set_xlabel('Date',fontsize=20)\n",
    "ax2 = ax1.twinx() \n",
    "ax2.plot(xs, counts, '-o',label=\"counts\",color=color_sequence[2], linewidth=5,markersize=15)\n",
    "ax2.legend(loc=1)\n",
    "ax2.set_ylabel('Counts',fontsize=20)\n",
    "ax2.set_xlabel('Date',fontsize=20)\n",
    "fig.savefig(\"./fig/bf_and_ct.pdf\")\n",
    "plt.show()"
   ]
  },
  {
   "cell_type": "markdown",
   "metadata": {},
   "source": [
    "![13](./img/13.png)"
   ]
  },
  {
   "cell_type": "code",
   "execution_count": null,
   "metadata": {},
   "outputs": [],
   "source": [
    "plt.figure(num=None, figsize=(20, 10), dpi=80, facecolor='w', edgecolor='k')\n",
    "for i in range(p_x.shape[0]):\n",
    "    xs = [datetime.strptime(d, '%Y') for d in all_year[i]]\n",
    "    plt.plot(xs, all_pl_year[i], '-o', label=p_x[i], color=color_sequence[i], linewidth=5,markersize=15)\n",
    "# plt.gcf().autofmt_xdate()  # 自动旋转日期标记\n",
    "plt.xticks(fontsize=20)\n",
    "plt.yticks(fontsize=20)\n",
    "plt.xlabel(\"Time\",fontsize=20)\n",
    "plt.ylabel(\"Sales\",fontsize=20)\n",
    "plt.grid()\n",
    "plt.legend(prop={\"size\":20})\n",
    "plt.show()"
   ]
  },
  {
   "cell_type": "markdown",
   "metadata": {},
   "source": [
    "![23](./img/23.png)"
   ]
  },
  {
   "cell_type": "code",
   "execution_count": null,
   "metadata": {},
   "outputs": [],
   "source": [
    "def plot(all_ti,all_values,cn,tm,path):\n",
    "    sns.set_style(\"ticks\")\n",
    "    color_sequence = ['darkviolet', 'limegreen', 'dodgerblue', '#ffbb78', '#2ca02c',\n",
    "    '#98df8a', '#d62728', '#ff9896', '#9467bd', '#c5b0d5',\n",
    "    '#8c564b', '#c49c94', '#e377c2', '#f7b6d2', '#7f7f7f',\n",
    "    '#c7c7c7', '#bcbd22', '#dbdb8d', '#17becf', '#9edae5',\n",
    "    '#01f9c6', '#1f6357', '#6ecb3c', '#24bca6', '#363737',\n",
    "    '#f1f33f', '#fdff63', '#21fc0d', '#2a7e19', '#e17701',\n",
    "    '#ffa62b', '#b6c406', '#019529', '#c1f80a', '#fe0002',\n",
    "    '#4a0550']\n",
    "    oc = ['-o','-o','-o','-*','-+','-s','-^','-p','-h','-H','-d','-|','-_','-v',\n",
    "    '--o','-->','--<','--*','--+','--s','--^','--p','--h','--H','--d','--|','--_','--v',\n",
    "    '-.o','-.>','-.<','-.*','-.+','-.s','-.^','-.p','-.h','-.H','-.d','-.|','-._','-.v',\n",
    "    ':o',':>',':<',':*',':+',':s',':^',':p',':h',':H',':d',':|',':_',':v']\n",
    "    plt.figure(num=None, figsize=(25, 15), dpi=80, facecolor='w', edgecolor='k')\n",
    "    for i in range(len(cn)):\n",
    "        xs = [datetime.strptime(str(d), '%Y-%m-%d') for d in all_ti[i]]\n",
    "        plt.plot(xs, all_values[i], oc[i%56], label=cn[i], color=color_sequence[i%36], linewidth=5,markersize=10)\n",
    "        plt.gcf().autofmt_xdate()  # 自动旋转日期标记\"\n",
    "        plt.xticks(fontsize=20)\n",
    "        plt.yticks(fontsize=20)\n",
    "        plt.xlabel(tm[0],fontsize=25)\n",
    "        plt.ylabel(tm[1],fontsize=25)\n",
    "        plt.grid()\n",
    "        plt.title(tm[2],fontsize=30)\n",
    "        plt.legend()\n",
    "        plt.legend(prop={\"size\":20})\n",
    "    sns.despine()\n",
    "    plt.savefig(path)\n",
    "    plt.show()\n",
    "    \n",
    "    \n",
    "# 全球每日变化\n",
    "gb_data = pd.read_csv(\"./total_global_data.csv\")\n",
    "gb_data = gb_data[gb_data[\"Date\"]<\"2020-06-08\"]\n",
    "gb_data = gb_data[gb_data[\"Date\"]>\"2020-02-01\"]\n",
    "cf = gb_data[\"DailyConfirmed\"].values.tolist()\n",
    "rc = gb_data[\"DailyRecovered\"].values.tolist()\n",
    "rm = gb_data[\"DailyRemoved\"].values.tolist()\n",
    "all_ti = []\n",
    "all_values = []\n",
    "all_ti.append(gb_data[\"Date\"].values.tolist())\n",
    "all_ti.append(gb_data[\"Date\"].values.tolist())\n",
    "all_ti.append(gb_data[\"Date\"].values.tolist())\n",
    "all_values.append(rm)\n",
    "all_values.append(rc)\n",
    "all_values.append(cf)\n",
    "cn = [\"Death\",\"Recovered\",\"Confirmed\"]\n",
    "tm = [\"Date\",\"Number\",\"Global\"]\n",
    "path = \"./Pic/global_daily.pdf\"\n",
    "plot(all_ti,all_values,cn,tm,path)"
   ]
  },
  {
   "cell_type": "markdown",
   "metadata": {},
   "source": [
    "![122](./img/122.png)"
   ]
  },
  {
   "cell_type": "code",
   "execution_count": null,
   "metadata": {},
   "outputs": [],
   "source": [
    "def plt_line6(Seq,path,pa):\n",
    "    Citys = np.unique(Seq[\"Name\"])\n",
    "    for c in Citys:\n",
    "        S = Seq[Seq[\"Name\"]==c]\n",
    "        S = S.sort_values(by=\"Date\")\n",
    "        La = S[\"Label\"].values.tolist()\n",
    "        if (\"Train\" in La) and (\"Test\" in La):\n",
    "            print(c,path)\n",
    "            S2 = S.set_index(S[\"Date\"],drop=True)\n",
    "            sns.set_style(\"ticks\")\n",
    "            plt.figure(figsize=(20, 10),edgecolor='white',facecolor='white')\n",
    "            S2[path[0]].plot(style=\"-\",fontsize=30,linewidth=5,markersize=5)\n",
    "            S2[path[1]].plot(style=\"-\",fontsize=30,linewidth=5,markersize=5)\n",
    "            S2[path[2]].plot(style=\"-\",fontsize=30,linewidth=5,markersize=5)\n",
    "            S2[path[3]].plot(style=\"-\",fontsize=30,linewidth=5,markersize=5)\n",
    "            S2[\"Real\"].plot(style=\"--\",fontsize=30,linewidth=5,markersize=5)\n",
    "            plt.xlabel(\"Date\",fontsize=30)\n",
    "            plt.ylabel(\"Daily Confirmed\",fontsize=30)\n",
    "            plt.legend(fontsize=30)\n",
    "            plt.title(c,fontsize=30)\n",
    "            plt.grid()\n",
    "            plt.xticks(rotation=45)\n",
    "            path1 = \"./CODE/result/\" +pa+\"/\"\n",
    "            if(os.path.exists(path1)):\n",
    "                pass\n",
    "            else:\n",
    "                mkdir(path1)\n",
    "            path2 = path1  + c + \".pdf\"\n",
    "            plt.savefig(path2,bbox_inches = 'tight')\n",
    "            plt.show()\n",
    "\n",
    "pa1 = \"./CODE/result/Seq_Boost2.csv\"\n",
    "pa2 = \"./CODE/result/Seq_no_test.csv\"\n",
    "pa3 = \"./CODE/result/Seq_add_test.csv\"\n",
    "pa4 = \"./CODE/result/Seq_Bagging-BLS.csv\"\n",
    "data1 = pd.read_csv(pa1)\n",
    "data2 = pd.read_csv(pa2)\n",
    "data3 = pd.read_csv(pa3)\n",
    "data5 = pd.read_csv(pa4)\n",
    "data4 = data1\n",
    "data4[\"BLS(Add test)\"] = data2[\"BL\"]\n",
    "data4[\"BLS(No test)\"] = data3[\"BL\"]\n",
    "data4[\"Bagging-BLS\"] = data5[\"Bagging-BLS\"]\n",
    "data4.columns = ['Date', 'Name', 'Real', 'Label', 'FI-BLS', 'BLS(Add test)',\n",
    "       'BLS(No test)', 'Bagging-BLS']\n",
    "plt_line6(data4,[\"FI-BLS\",\"BLS(Add test)\",\"BLS(No test)\",\"Bagging-BLS\"],\"compare_model\")"
   ]
  },
  {
   "cell_type": "markdown",
   "metadata": {},
   "source": [
    "![123](./img/123.png)"
   ]
  },
  {
   "cell_type": "code",
   "execution_count": null,
   "metadata": {},
   "outputs": [],
   "source": [
    "fig, ax = plt.subplots(1, 1, figsize=(6, 4))\n",
    "ax.plot(x, y_1, color='k', linestyle=':', linewidth=1,\n",
    "        marker='o', markersize=5,\n",
    "        markeredgecolor='black', markerfacecolor='C0')\n",
    "\n",
    "ax.plot(x, y_2, color='k', linestyle=':', linewidth=1,\n",
    "        marker='o', markersize=5,\n",
    "        markeredgecolor='black', markerfacecolor='C3')\n",
    "\n",
    "ax.plot(x, y_3, color='k', linestyle=':', linewidth=1,\n",
    "        marker='o', markersize=5,\n",
    "        markeredgecolor='black', markerfacecolor='C2')\n",
    "\n",
    "ax.legend(labels=[\"y_1\", \"y_2\",\"y_3\"], ncol=3)"
   ]
  },
  {
   "cell_type": "markdown",
   "metadata": {},
   "source": [
    "![79](./img/79.png)"
   ]
  },
  {
   "cell_type": "code",
   "execution_count": null,
   "metadata": {},
   "outputs": [],
   "source": [
    "import numpy as np\n",
    "import matplotlib.pyplot as plt\n",
    "from mpl_toolkits.axes_grid1.inset_locator import mark_inset\n",
    "from mpl_toolkits.axes_grid1.inset_locator import inset_axes\n",
    "\n",
    "# 准备数据\n",
    "x = np.linspace(-0.1*np.pi, 2*np.pi, 30)\n",
    "y_1 = np.sinc(x)+0.7\n",
    "y_2 = np.tanh(x)\n",
    "y_3 = np.exp(-np.sinc(x))\n",
    "\n",
    "\n",
    "# 绘图\n",
    "fig, ax = plt.subplots(1, 1, figsize=(6, 4))\n",
    "ax.plot(x, y_1, color='k', linestyle=':', linewidth=1,\n",
    "        marker='o', markersize=5,\n",
    "        markeredgecolor='black', markerfacecolor='C0')\n",
    "\n",
    "ax.plot(x, y_2, color='k', linestyle=':', linewidth=1,\n",
    "        marker='o', markersize=5,\n",
    "        markeredgecolor='black', markerfacecolor='C3')\n",
    "\n",
    "ax.plot(x, y_3, color='k', linestyle=':', linewidth=1,\n",
    "        marker='o', markersize=5,\n",
    "        markeredgecolor='black', markerfacecolor='C2')\n",
    "\n",
    "ax.legend(labels=[\"y_1\", \"y_2\",\"y_3\"], ncol=3)\n",
    "\n",
    "# 嵌入绘制局部放大图的坐标系\n",
    "axins = inset_axes(ax, width=\"40%\", height=\"30%\",loc='lower left',\n",
    "                   bbox_to_anchor=(0.5, 0.1, 1, 1),\n",
    "                   bbox_transform=ax.transAxes)\n",
    "\n",
    "# 在子坐标系中绘制原始数据\n",
    "axins.plot(x, y_1, color='k', linestyle=':', linewidth=1,\n",
    "            marker='o', markersize=5,\n",
    "            markeredgecolor='black', markerfacecolor='C0')\n",
    "\n",
    "axins.plot(x, y_2, color='k', linestyle=':', linewidth=1,\n",
    "            marker='o', markersize=5,\n",
    "            markeredgecolor='black', markerfacecolor='C3')\n",
    "\n",
    "axins.plot(x, y_3, color='k', linestyle=':', linewidth=1,\n",
    "            marker='o', markersize=5,\n",
    "            markeredgecolor='black', markerfacecolor='C2')\n",
    "\n",
    "# 设置放大区间\n",
    "zone_left = 11\n",
    "zone_right = 12\n",
    "\n",
    "# 坐标轴的扩展比例（根据实际数据调整）\n",
    "x_ratio = 0.5 # x轴显示范围的扩展比例\n",
    "y_ratio = 0.5 # y轴显示范围的扩展比例\n",
    "\n",
    "# X轴的显示范围\n",
    "xlim0 = x[zone_left]-(x[zone_right]-x[zone_left])*x_ratio\n",
    "xlim1 = x[zone_right]+(x[zone_right]-x[zone_left])*x_ratio\n",
    "\n",
    "# Y轴的显示范围\n",
    "y = np.hstack((y_1[zone_left:zone_right], y_2[zone_left:zone_right], y_3[zone_left:zone_right]))\n",
    "ylim0 = np.min(y)-(np.max(y)-np.min(y))*y_ratio\n",
    "ylim1 = np.max(y)+(np.max(y)-np.min(y))*y_ratio\n",
    "\n",
    "# 调整子坐标系的显示范围\n",
    "axins.set_xlim(xlim0, xlim1)\n",
    "axins.set_ylim(ylim0, ylim1)\n",
    "\n",
    "# 建立父坐标系与子坐标系的连接线\n",
    "# loc1 loc2: 坐标系的四个角\n",
    "# 1 (右上) 2 (左上) 3(左下) 4(右下)\n",
    "mark_inset(ax, axins, loc1=3, loc2=1, fc=\"none\", ec='k', lw=1)\n",
    "\n",
    "# 显示\n",
    "plt.show()"
   ]
  },
  {
   "cell_type": "markdown",
   "metadata": {},
   "source": [
    "![80](./img/80.png)"
   ]
  },
  {
   "cell_type": "markdown",
   "metadata": {},
   "source": [
    "![81](./img/81.png)"
   ]
  },
  {
   "cell_type": "code",
   "execution_count": null,
   "metadata": {},
   "outputs": [],
   "source": [
    "# 上面的都是拟合一次曲线，拟合二次曲线通过order=2设置，\n",
    "# 拟合一次曲线相当于 order=1\n",
    "ans = sns.load_dataset(\"anscombe\")\n",
    "ax = sns.regplot(x=\"x\", y=\"y\", data=ans.loc[ans.dataset == \"II\"],\n",
    "                scatter_kws={\"s\": 80},order=2, ci=None, truncate=True)"
   ]
  },
  {
   "cell_type": "markdown",
   "metadata": {},
   "source": [
    "![95](./img/95.png)"
   ]
  },
  {
   "cell_type": "code",
   "execution_count": null,
   "metadata": {},
   "outputs": [],
   "source": [
    "# 1、时间线图表 - tsplot()\n",
    "# 简单示例\n",
    " \n",
    "x = np.linspace(0, 15, 31)\n",
    "data = np.sin(x) + np.random.rand(10, 31) + np.random.randn(10, 1)\n",
    "print(data.shape)\n",
    "print(pd.DataFrame(data).head()) #每一行数据是一个变量，31列是代表有31天或31种情况下的观测值。\n",
    "# 创建数\n",
    " \n",
    "sns.tsplot(data=data,\n",
    "           err_style=\"ci_band\",   # 误差数据风格，可选：ci_band, ci_bars, boot_traces, boot_kde, unit_traces, unit_points\n",
    "           interpolate=True,      # 是否连线\n",
    "           ci = [40,70,90],       # 设置误差 置信区间\n",
    "           color = 'g'            # 设置颜色\n",
    "          )"
   ]
  },
  {
   "cell_type": "markdown",
   "metadata": {},
   "source": [
    "![105](./img/105.png)"
   ]
  },
  {
   "cell_type": "code",
   "execution_count": null,
   "metadata": {},
   "outputs": [],
   "source": [
    "# 使用不同的统计函数，默认的是均值，这里是中位数\n",
    "ax = sns.tsplot(data=data, estimator=np.median)"
   ]
  },
  {
   "cell_type": "markdown",
   "metadata": {},
   "source": [
    "![107](./img/107.png)"
   ]
  },
  {
   "cell_type": "code",
   "execution_count": null,
   "metadata": {},
   "outputs": [],
   "source": [
    "# 绘制不同的置信度拟合图，这个好用\n",
    "ax = sns.tsplot(data=data, ci=[68, 95], color=\"m\")"
   ]
  },
  {
   "cell_type": "markdown",
   "metadata": {},
   "source": [
    "![108](./img/108.png)"
   ]
  },
  {
   "cell_type": "code",
   "execution_count": null,
   "metadata": {},
   "outputs": [],
   "source": [
    "plt.figure(figsize=(12,6))\n",
    "plt.subplot(121)\n",
    "sns.regplot(x=\"Year\", y=\"Depth\",\n",
    "data=data,x_jitter=.05,\n",
    "x_estimator=np.mean,order=3)\n",
    "plt.ylabel(' ')\n",
    "# x_estimator是一个参数，相当于对每年地震记录中参数取平均值，探究平均值的趋势\n",
    "plt.title('Regression fit of depth,order = 3')\n",
    " \n",
    "plt.subplot(122)\n",
    "sns.regplot(x=\"Year\", y=\"Magnitude\",\n",
    "data=data,x_jitter=.05,\n",
    "x_estimator=np.mean,order=3)\n",
    "# x_estimator是一个参数，相当于对每年地震记录中参数取平均值，探究平均值的趋势\n",
    "plt.title('Regression fit of magnitude,order=3')\n",
    "plt.show()"
   ]
  },
  {
   "cell_type": "markdown",
   "metadata": {},
   "source": [
    "![106](./img/106.png)"
   ]
  },
  {
   "cell_type": "code",
   "execution_count": null,
   "metadata": {},
   "outputs": [],
   "source": [
    "# Import Data\n",
    "df = pd.read_csv(\"https://github.com/selva86/datasets/raw/master/economics.csv\")\n",
    "\n",
    "# Prepare Data\n",
    "x = df['date'].values.tolist()\n",
    "y1 = df['psavert'].values.tolist()\n",
    "y2 = df['uempmed'].values.tolist()\n",
    "mycolors = ['tab:red', 'tab:blue', 'tab:green', 'tab:orange', 'tab:brown', 'tab:grey', 'tab:pink', 'tab:olive']      \n",
    "columns = ['psavert', 'uempmed']\n",
    "\n",
    "# Draw Plot\n",
    "fig, ax = plt.subplots(1, 1, figsize=(16,9), dpi= 80)\n",
    "ax.fill_between(x, y1=y1, y2=0, label=columns[1], alpha=0.5, color=mycolors[1], linewidth=2)\n",
    "ax.fill_between(x, y1=y2, y2=0, label=columns[0], alpha=0.5, color=mycolors[0], linewidth=2)\n",
    "\n",
    "# Decorations\n",
    "ax.set_title('Personal Savings Rate vs Median Duration of Unemployment', fontsize=18)\n",
    "ax.set(ylim=[0, 30])\n",
    "ax.legend(loc='best', fontsize=12)\n",
    "plt.xticks(x[::50], fontsize=10, horizontalalignment='center')\n",
    "plt.yticks(np.arange(2.5, 30.0, 2.5), fontsize=10)\n",
    "plt.xlim(-10, x[-1])\n",
    "\n",
    "# Draw Tick lines  \n",
    "for y in np.arange(2.5, 30.0, 2.5):    \n",
    "    plt.hlines(y, xmin=0, xmax=len(x), colors='black', alpha=0.3, linestyles=\"--\", lw=0.5)\n",
    "\n",
    "# Lighten borders\n",
    "plt.gca().spines[\"top\"].set_alpha(0)\n",
    "plt.gca().spines[\"bottom\"].set_alpha(.3)\n",
    "plt.gca().spines[\"right\"].set_alpha(0)\n",
    "plt.gca().spines[\"left\"].set_alpha(.3)\n",
    "plt.show()"
   ]
  },
  {
   "cell_type": "markdown",
   "metadata": {},
   "source": [
    "![119](./img/119.png)"
   ]
  },
  {
   "cell_type": "markdown",
   "metadata": {},
   "source": [
    "##  热力图"
   ]
  },
  {
   "cell_type": "code",
   "execution_count": null,
   "metadata": {},
   "outputs": [],
   "source": [
    "plt.figure()\n",
    "sns.heatmap(data.drop(columns=[\"名字\",\"ID\"]).corr()[p_name][:-1].values.reshape(-1,1),vmax=.8, square=True)\n",
    "plt.show()"
   ]
  },
  {
   "cell_type": "markdown",
   "metadata": {},
   "source": [
    "![16](./img/16.png)"
   ]
  },
  {
   "cell_type": "code",
   "execution_count": null,
   "metadata": {},
   "outputs": [],
   "source": [
    "f,ax = plt.subplots(figsize=(10,10))\n",
    "sns.heatmap(data.corr(method=\"spearman\"),vmax=.8, square=True)\n",
    "plt.show()"
   ]
  },
  {
   "cell_type": "markdown",
   "metadata": {},
   "source": [
    "![19](./img/19.png)"
   ]
  },
  {
   "cell_type": "code",
   "execution_count": null,
   "metadata": {},
   "outputs": [],
   "source": [
    "plt.figure(figsize=(12,10), dpi= 80)\n",
    "sns.heatmap(df.corr(), xticklabels=df.corr().columns, yticklabels=df.corr().columns, cmap='RdYlGn', center=0, annot=True)\n",
    "plt.title('Correlogram of mtcars', fontsize=22)\n",
    "plt.xticks(fontsize=12)\n",
    "plt.yticks(fontsize=12)\n",
    "plt.show()"
   ]
  },
  {
   "cell_type": "markdown",
   "metadata": {},
   "source": [
    "![51](./img/51.png)"
   ]
  },
  {
   "cell_type": "code",
   "execution_count": null,
   "metadata": {},
   "outputs": [],
   "source": [
    "plt.figure(dpi=120)\n",
    "sns.heatmap(data=df,#矩阵数据集，数据的index和columns分别为heatmap的y轴方向和x轴方向标签               \n",
    "         )\n",
    "plt.title('所有参数默认')"
   ]
  },
  {
   "cell_type": "markdown",
   "metadata": {},
   "source": [
    "![72](./img/72.png)"
   ]
  },
  {
   "cell_type": "code",
   "execution_count": null,
   "metadata": {},
   "outputs": [],
   "source": [
    "#右侧colorbar范围修改\n",
    "#注意colorbar范围变化，左图颜色随之变化\n",
    "plt.clf()\n",
    "plt.figure(dpi=120)\n",
    "sns.heatmap(data=df,#矩阵数据集，数据的index和columns分别为heatmap的y轴方向和x轴方向标签\n",
    "                 vmin=5,#图例（右侧颜色条color bar）中最小显示值 \n",
    "                 vmax=8,#图例（右侧颜色条color bar）中最大显示值\n",
    "           )\n",
    "plt.title('右侧colorbar显示范围修改：vmin、vmax') "
   ]
  },
  {
   "cell_type": "markdown",
   "metadata": {},
   "source": [
    "![73](./img/73.png)"
   ]
  },
  {
   "cell_type": "code",
   "execution_count": null,
   "metadata": {},
   "outputs": [],
   "source": [
    "plt.figure(dpi=120)\n",
    "sns.heatmap(data=df,\n",
    "            cmap=plt.get_cmap('Set3'),#使用matplotlib中的颜色盘\n",
    "           )\n",
    "plt.title(\"使用matplotlib中的颜色盘：cmap=plt.get_cmap('Set3')\")\n",
    "\n",
    "# cmap的种类\n",
    "# ['Accent', 'Blues', 'BrBG', 'BuGn', 'BuPu', 'CMRmap', 'Dark2', \n",
    "# 'GnBu', 'Greens', 'Greys', 'OrRd', 'Oranges', 'PRGn', 'Paired',\n",
    "#  'Pastel1', 'Pastel2', 'PiYG', 'PuBu', 'PuBuGn', 'PuOr', 'PuRd', \n",
    "#  'Purples', 'RdBu', 'RdGy', 'RdPu', 'RdYlBu', 'RdYlGn', 'Reds',\n",
    "#   'Set1', 'Set2', 'Set3', 'Spectral', 'Wistia', 'YlGn', 'YlGnBu', \n",
    "#   'YlOrBr', 'YlOrRd', 'afmhot', 'autumn', 'binary', 'bone', 'brg', \n",
    "#   'bwr', 'cividis', 'cool', 'coolwarm', 'copper', 'cubehelix', \n",
    "#   'flag', 'gist_earth', 'gist_gray', 'gist_heat', 'gist_ncar', \n",
    "#   'gist_stern', 'gist_yarg', 'gnuplot', 'gnuplot2', 'gray', 'hot', \n",
    "#   'hsv', 'inferno', 'jet', 'magma', 'nipy_spectral', 'ocean', \n",
    "#   'pink', 'plasma', 'prism', 'rainbow', 'seismic', 'spring', \n",
    "#   'summer', 'tab10', 'tab20', 'tab20b', 'tab20c', 'terrain', \n",
    "#   'twilight', 'twilight_shifted', 'viridis', 'winter']"
   ]
  },
  {
   "cell_type": "markdown",
   "metadata": {},
   "source": [
    "![74](./img/74.png)"
   ]
  },
  {
   "cell_type": "code",
   "execution_count": null,
   "metadata": {},
   "outputs": [],
   "source": [
    "plt.figure(dpi=120)\n",
    "sns.heatmap(data=df,\n",
    "            annot=True,#默认为False，当为True时，在每个格子写入data中数据\n",
    "            fmt=\".2f\"#设置每个格子中数据的格式，参考之前的文章，此处保留两位小数\n",
    "           )\n",
    "plt.title(\"格子中数据的格式化输出：fmt\")"
   ]
  },
  {
   "cell_type": "markdown",
   "metadata": {},
   "source": [
    "![75](./img/75.png)"
   ]
  },
  {
   "cell_type": "code",
   "execution_count": null,
   "metadata": {},
   "outputs": [],
   "source": [
    "plt.figure(dpi=120)\n",
    "sns.heatmap(data=df,\n",
    "            cmap=palettable.cartocolors.diverging.ArmyRose_7.mpl_colors,\n",
    "            mask=df<6.0,#热图中显示部分数据：显示数值小于6的数据 \n",
    "         )\n",
    "plt.title(\"热图中只显示部分符合条件的数据：mask\")"
   ]
  },
  {
   "cell_type": "markdown",
   "metadata": {},
   "source": [
    "![76](./img/76.png)"
   ]
  },
  {
   "cell_type": "code",
   "execution_count": null,
   "metadata": {},
   "outputs": [],
   "source": [
    "plt.figure(figsize=(11, 9),dpi=100)\n",
    "sns.heatmap(data=dcorr,\n",
    "            vmax=0.3, \n",
    "            cmap=palettable.cmocean.diverging.Curl_10.mpl_colors,\n",
    "            annot=True,\n",
    "            fmt=\".2f\",\n",
    "            annot_kws={'size':8,'weight':'normal', 'color':'#253D24'},\n",
    "            mask=np.triu(np.ones_like(dcorr,dtype=np.bool)),#显示对脚线下面部分图\n",
    "            square=True, linewidths=.5,#每个方格外框显示，外框宽度设置\n",
    "            cbar_kws={\"shrink\": .5}\n",
    "           )"
   ]
  },
  {
   "cell_type": "markdown",
   "metadata": {},
   "source": [
    "![77](./img/77.png)"
   ]
  },
  {
   "cell_type": "code",
   "execution_count": null,
   "metadata": {},
   "outputs": [],
   "source": [
    "plt.figure(figsize=(11, 9),dpi=100)\n",
    "sns.clustermap(data=dcorr,\n",
    "               vmax=0.3,\n",
    "               cmap=palettable.cmocean.diverging.Curl_10.mpl_colors,\n",
    "               linewidths=.75,               \n",
    "              )"
   ]
  },
  {
   "cell_type": "markdown",
   "metadata": {},
   "source": [
    "![78](./img/78.png)"
   ]
  },
  {
   "cell_type": "code",
   "execution_count": null,
   "metadata": {},
   "outputs": [],
   "source": [
    "import plotly.express as px\n",
    "import plotly.io as pio\n",
    "\n",
    "data = pd.read_csv(\"./data1.csv\")\n",
    "plot = px.scatter_geo(data,lat=\"Lat\",lon=\"Lon\",size=\"infected\",title=\"COVID-19 2020-9-15\",width=1000,height=700) \n",
    "plot.show()\n",
    "pio.write_html(plot,\"./text.html\")"
   ]
  },
  {
   "cell_type": "markdown",
   "metadata": {},
   "source": [
    "![127](./img/127.png)"
   ]
  },
  {
   "cell_type": "markdown",
   "metadata": {},
   "source": [
    "##  饼图"
   ]
  },
  {
   "cell_type": "code",
   "execution_count": null,
   "metadata": {},
   "outputs": [],
   "source": [
    "data[\"D_year_1\"].value_counts().plot.pie(autopct=\"%1.1f%%\")"
   ]
  },
  {
   "cell_type": "markdown",
   "metadata": {},
   "source": [
    "![20](./img/20.png)"
   ]
  },
  {
   "cell_type": "code",
   "execution_count": null,
   "metadata": {},
   "outputs": [],
   "source": [
    "labels = ['Mon', 'Tue', 'Wed', 'Thu', 'Fri', 'Sat', 'Sun']\n",
    "# data = np.random.rand(7) * 100\n",
    "data = [1, 2, 3, 4, 5, 6, 7]  # data和labels的索引会对应，占比是data[i]/sum(data)\n",
    "# 1.2f指的小数保留两位\n",
    "plt.pie(data, labels=labels, autopct='%1.2f%%')  # 第一个参数是占比，第二个各自的标签，第三个是显示精度\n",
    "plt.axis('equal')  # 让图看起来是圆的，不然就扁了\n",
    "plt.legend()  # 左上角的那个图例，随机的，可以自己换位置\n",
    "plt.show()"
   ]
  },
  {
   "cell_type": "markdown",
   "metadata": {},
   "source": [
    "![71](./img/71.png)"
   ]
  },
  {
   "cell_type": "markdown",
   "metadata": {},
   "source": [
    "##  散点图"
   ]
  },
  {
   "cell_type": "code",
   "execution_count": null,
   "metadata": {},
   "outputs": [],
   "source": [
    "sns.stripplot(x=\"time\",y=\"total_bill\",data=data) "
   ]
  },
  {
   "cell_type": "markdown",
   "metadata": {},
   "source": [
    "![24](./img/24.png)\n",
    "![25](./img/25.png)"
   ]
  },
  {
   "cell_type": "code",
   "execution_count": null,
   "metadata": {},
   "outputs": [],
   "source": [
    "sns.stripplot(x=\"time\",y=\"total_bill\",data=data,jitter=True) # jitter:当数据点重合较多时，可用该参数做一些调整"
   ]
  },
  {
   "cell_type": "markdown",
   "metadata": {},
   "source": [
    "![26](./img/26.png)"
   ]
  },
  {
   "cell_type": "code",
   "execution_count": null,
   "metadata": {},
   "outputs": [],
   "source": [
    "sns.stripplot(x=\"time\",y=\"total_bill\",\n",
    "              data=data,jitter=True,\n",
    "              hue=\"day\") # 利用hue参数进行内部的分类"
   ]
  },
  {
   "cell_type": "markdown",
   "metadata": {},
   "source": [
    "![27](./img/27.png)"
   ]
  },
  {
   "cell_type": "code",
   "execution_count": null,
   "metadata": {},
   "outputs": [],
   "source": [
    "sns.stripplot(x=\"time\",y=\"total_bill\",\n",
    "             data=data,jitter=True,\n",
    "             hue=\"day\",dodge=True) # dodge:控制组内分类是否彻底分拆"
   ]
  },
  {
   "cell_type": "markdown",
   "metadata": {},
   "source": [
    "![28](./img/28.png)"
   ]
  },
  {
   "cell_type": "code",
   "execution_count": null,
   "metadata": {},
   "outputs": [],
   "source": [
    "sns.swarmplot(x=\"day\",y=\"total_bill\",\n",
    "                 data=data)"
   ]
  },
  {
   "cell_type": "markdown",
   "metadata": {},
   "source": [
    "![29](./img/29.png)"
   ]
  },
  {
   "cell_type": "code",
   "execution_count": null,
   "metadata": {},
   "outputs": [],
   "source": [
    "sns.swarmplot(x=\"day\",y=\"total_bill\",\n",
    "              data=data,hue=\"sex\",\n",
    "             dodge=True)"
   ]
  },
  {
   "cell_type": "markdown",
   "metadata": {},
   "source": [
    "![30](./img/30.png)"
   ]
  },
  {
   "cell_type": "code",
   "execution_count": null,
   "metadata": {},
   "outputs": [],
   "source": [
    "sns.swarmplot(x=\"day\",y=\"total_bill\",\n",
    "              data=data,hue=\"sex\",\n",
    "              dodge=True,palette=\"husl\")"
   ]
  },
  {
   "cell_type": "markdown",
   "metadata": {},
   "source": [
    "![31](./img/31.png)"
   ]
  },
  {
   "cell_type": "code",
   "execution_count": null,
   "metadata": {},
   "outputs": [],
   "source": [
    "sns.swarmplot(y=\"day\",x=\"total_bill\",\n",
    "              data=data,hue=\"sex\",\n",
    "              dodge=True,palette=\"husl\")"
   ]
  },
  {
   "cell_type": "markdown",
   "metadata": {},
   "source": [
    "![32](./img/32.png)"
   ]
  },
  {
   "cell_type": "code",
   "execution_count": null,
   "metadata": {},
   "outputs": [],
   "source": [
    "N = 15\n",
    "# 新建3组点(x,y)，每组15个，x,y大小在区间[0,100]之间\n",
    "X1 = np.random.rand(N) * 100\n",
    "Y1 = np.random.rand(N) * 100\n",
    "X2 = np.random.rand(N) * 100\n",
    "Y2 = np.random.rand(N) * 100\n",
    "X3 = np.random.rand(N) * 100\n",
    "Y3 = np.random.rand(N) * 100\n",
    "\n",
    "plt.scatter(X1, Y1, c='r', s=100, alpha=0.5)  # c颜色，s大小，alpha透明度\n",
    "plt.scatter(X2, Y2, c='g', s=200, alpha=0.5)\n",
    "plt.scatter(X3, Y3, c='b', s=300, alpha=0.5)\n",
    "plt.show()"
   ]
  },
  {
   "cell_type": "markdown",
   "metadata": {},
   "source": [
    "![69](./img/69.png)"
   ]
  },
  {
   "cell_type": "code",
   "execution_count": null,
   "metadata": {},
   "outputs": [],
   "source": [
    "plt.scatter(X1, Y1, c='r', s=100, alpha=0.5,marker='*')  # c颜色，s大小，alpha透明度,marker形状\n",
    "plt.scatter(X2, Y2, c='g', s=200, alpha=0.5,marker='x')\n",
    "plt.scatter(X3, Y3, c='b', s=300, alpha=0.5,marker='o')"
   ]
  },
  {
   "cell_type": "markdown",
   "metadata": {},
   "source": [
    "![70](./img/70.png)"
   ]
  },
  {
   "cell_type": "code",
   "execution_count": null,
   "metadata": {},
   "outputs": [],
   "source": [
    "sns.pairplot(df.fillna(0))"
   ]
  },
  {
   "cell_type": "markdown",
   "metadata": {},
   "source": [
    "![86](./img/86.png)"
   ]
  },
  {
   "cell_type": "code",
   "execution_count": null,
   "metadata": {},
   "outputs": [],
   "source": [
    "plots = pd.scatter_matrix(df, marker='o', diagonal='kde')\n",
    "plt.show()"
   ]
  },
  {
   "cell_type": "markdown",
   "metadata": {},
   "source": [
    "![87](./img/87.png)"
   ]
  },
  {
   "cell_type": "code",
   "execution_count": null,
   "metadata": {},
   "outputs": [],
   "source": [
    "grid=sns.FacetGrid(df,row='martial_status',col='education',palette='seismic',size=4)\n",
    "grid.map(plt.scatter,'gjj_loan_balance','max_overduer_days')\n",
    "grid.add_legend()\n",
    "plt.show() # facetGrid可以根据类别特征各种不同组合进行显示"
   ]
  },
  {
   "cell_type": "markdown",
   "metadata": {},
   "source": [
    "![89](./img/89.png)"
   ]
  },
  {
   "cell_type": "code",
   "execution_count": null,
   "metadata": {},
   "outputs": [],
   "source": [
    "N = 500\n",
    "\n",
    "# Construct the colormap\n",
    "current_palette = sns.color_palette(\"muted\", n_colors=5)\n",
    "cmap = ListedColormap(sns.color_palette(current_palette).as_hex())\n",
    "\n",
    "# Initialize the data\n",
    "data1 = np.random.randn(N)\n",
    "data2 = np.random.randn(N)\n",
    "# Assume that there are 5 possible labels\n",
    "colors = np.random.randint(0,5,N)\n",
    "\n",
    "# Create a scatter plot\n",
    "plt.scatter(data1, data2, c=colors, cmap=cmap)\n",
    "\n",
    "# Add a color bar\n",
    "plt.colorbar()\n",
    "\n",
    "# Show the plot\n",
    "plt.show()"
   ]
  },
  {
   "cell_type": "markdown",
   "metadata": {},
   "source": [
    "![90](./img/90.png)"
   ]
  },
  {
   "cell_type": "code",
   "execution_count": null,
   "metadata": {},
   "outputs": [],
   "source": [
    "# 分组的线性回归图，通过hue参数控制\n",
    "g = sns.lmplot(x=\"total_bill\", y=\"tip\", hue=\"smoker\", data=tips)"
   ]
  },
  {
   "cell_type": "markdown",
   "metadata": {},
   "source": [
    "![94](./img/94.png)"
   ]
  },
  {
   "cell_type": "code",
   "execution_count": null,
   "metadata": {},
   "outputs": [],
   "source": [
    " # 默认绘制双变量的散点图，计算两个变量的直方图，计算两个变量的相关系数和置信度\n",
    "import numpy as np, pandas as pd\n",
    "np.random.seed(0)\n",
    "import seaborn as sns; sns.set(style=\"white\", color_codes=True)\n",
    "tips = sns.load_dataset(\"tips\")\n",
    "g = sns.jointplot(x=\"total_bill\", y=\"tip\", data=tips)"
   ]
  },
  {
   "cell_type": "markdown",
   "metadata": {},
   "source": [
    "![98](./img/98.png)"
   ]
  },
  {
   "cell_type": "code",
   "execution_count": null,
   "metadata": {},
   "outputs": [],
   "source": [
    "# 通过kind参数，除了绘制散点图，还要绘制拟合的直线，拟合的核密度图\n",
    " g = sns.jointplot(\"total_bill\", \"tip\", data=tips, kind=\"reg\")"
   ]
  },
  {
   "cell_type": "markdown",
   "metadata": {},
   "source": [
    "![99](./img/99.png)"
   ]
  },
  {
   "cell_type": "code",
   "execution_count": null,
   "metadata": {},
   "outputs": [],
   "source": [
    "# 使用六角形代替点图图\n",
    "g = sns.jointplot(\"total_bill\", \"tip\", data=tips, kind=\"hex\")"
   ]
  },
  {
   "cell_type": "markdown",
   "metadata": {},
   "source": [
    "![100](./img/100.png)"
   ]
  },
  {
   "cell_type": "code",
   "execution_count": null,
   "metadata": {},
   "outputs": [],
   "source": [
    "# hue 分组后，不同的组用不同的形状标记\n",
    "g = sns.pairplot(iris, hue=\"species\", markers=[\"o\", \"s\", \"D\"])"
   ]
  },
  {
   "cell_type": "markdown",
   "metadata": {},
   "source": [
    "![102](./img/102.png)"
   ]
  },
  {
   "cell_type": "code",
   "execution_count": null,
   "metadata": {},
   "outputs": [],
   "source": [
    "g = sns.pairplot(iris, hue=\"species\", palette=\"Set2\", diag_kind=\"kde\", height=2.5)"
   ]
  },
  {
   "cell_type": "markdown",
   "metadata": {},
   "source": [
    "![104](./img/104.png)"
   ]
  },
  {
   "cell_type": "code",
   "execution_count": null,
   "metadata": {},
   "outputs": [],
   "source": []
  },
  {
   "cell_type": "code",
   "execution_count": null,
   "metadata": {},
   "outputs": [],
   "source": []
  },
  {
   "cell_type": "markdown",
   "metadata": {},
   "source": [
    "##  箱形图"
   ]
  },
  {
   "cell_type": "markdown",
   "metadata": {},
   "source": [
    "![33](./img/33.png)\n",
    "![34](./img/34.png)"
   ]
  },
  {
   "cell_type": "code",
   "execution_count": null,
   "metadata": {},
   "outputs": [],
   "source": [
    "sns.boxplot(x=data[\"pw\"],data=data)"
   ]
  },
  {
   "cell_type": "markdown",
   "metadata": {},
   "source": [
    "![35](./img/35.png)"
   ]
  },
  {
   "cell_type": "code",
   "execution_count": null,
   "metadata": {},
   "outputs": [],
   "source": [
    "fig,axes=plt.subplots(1,2,sharey=True) # palette：调色板，控制图像的色调\n",
    "sns.boxplot(x=\"catagory\",y=\"pw\",data=data,ax=axes[0]) #左图\n",
    "sns.boxplot(x=\"catagory\",y=\"pw\",data=data,palette=\"Set3\",ax=axes[1]) #右图"
   ]
  },
  {
   "cell_type": "markdown",
   "metadata": {},
   "source": [
    "![36](./img/36.png)"
   ]
  },
  {
   "cell_type": "code",
   "execution_count": null,
   "metadata": {},
   "outputs": [],
   "source": [
    "sns.boxplot(x=\"color\",y=\"pl\",data=data,hue=\"catagory\",palette=\"Set3\")\n",
    "# hue（str）：dataframe的列名，按照列名中的值分类形成分类的条形图"
   ]
  },
  {
   "cell_type": "markdown",
   "metadata": {},
   "source": [
    "![37](./img/37.png)"
   ]
  },
  {
   "cell_type": "code",
   "execution_count": null,
   "metadata": {},
   "outputs": [],
   "source": [
    "sns.boxplot(x=\"catagory\",y=\"pw\",data=data,palette=\"Set3\",order=[2,1,0])\n",
    "# order, hue_order (lists of strings)：用于控制条形图的顺序"
   ]
  },
  {
   "cell_type": "markdown",
   "metadata": {},
   "source": [
    "![38](./img/38.png)"
   ]
  },
  {
   "cell_type": "code",
   "execution_count": null,
   "metadata": {},
   "outputs": [],
   "source": [
    "# orient：\"v\"|\"h\" 用于控制图像使水平还是竖直显示（这通常是从输入变量的dtype推断出来的，\n",
    "# 此参数一般当不传入x、y，只传入data的时候使用）\n",
    "\n",
    "fig,axes=plt.subplots(2,1)\n",
    "sns.boxplot(data=data,orient=\"v\",palette=\"Set3\",ax=axes[0])  #竖直显示\n",
    "sns.boxplot(data=data,orient=\"h\",palette=\"Set3\",ax=axes[1])  #水平显示 "
   ]
  },
  {
   "cell_type": "markdown",
   "metadata": {},
   "source": [
    "![39](./img/39.png)"
   ]
  },
  {
   "cell_type": "code",
   "execution_count": null,
   "metadata": {},
   "outputs": [],
   "source": [
    "# fliersize：float，用于指示离群值观察的标记大小\n",
    "fig,axes=plt.subplots(1,2)\n",
    "sns.boxplot(x=\"color\",y=\"pl\",data=data,ax=axes[0]) #fliersize默认为5\n",
    "sns.boxplot(x=\"color\",y=\"pl\",data=data,fliersize=20,ax=axes[1]) "
   ]
  },
  {
   "cell_type": "markdown",
   "metadata": {},
   "source": [
    "![40](./img/40.png)"
   ]
  },
  {
   "cell_type": "code",
   "execution_count": null,
   "metadata": {},
   "outputs": [],
   "source": [
    "# width：float，控制箱型图的宽度\n",
    "fig,axes=plt.subplots(1,2)\n",
    "sns.boxplot(x=\"color\",y=\"pl\",data=data,width=0.3,ax=axes[0])  #左图\n",
    "sns.boxplot(x=\"color\",y=\"pl\",data=data,width=0.8,ax=axes[1])  #右图"
   ]
  },
  {
   "cell_type": "markdown",
   "metadata": {},
   "source": [
    "![41](./img/41.png)"
   ]
  },
  {
   "cell_type": "code",
   "execution_count": null,
   "metadata": {},
   "outputs": [],
   "source": [
    "plt.rc('font',family='SimHei',size=13)\n",
    "#fliersize=1将异常点虚化，showmeans=True显示平均值，order表示按x轴显示进行排序\n",
    "sns.boxplot(x='is_overdue',y='gjj_loan_balance',hue='education',hue_order=['HighSchool','Colege','University','Master','other'],data=df,showmeans=True,fliersize=1,order=['0','1-15','15-30','30-45','45+'])\n",
    "plt.legend(loc='upper right')#图示靠右显示\n",
    "plt.show"
   ]
  },
  {
   "cell_type": "markdown",
   "metadata": {},
   "source": [
    "![88](./img/88.png)"
   ]
  },
  {
   "cell_type": "code",
   "execution_count": null,
   "metadata": {},
   "outputs": [],
   "source": [
    "# 箱线图+散点图\n",
    "# whis 参数设定是否显示箱线图的离群点，whis=np.inf 表示不显示\n",
    "ax = sns.boxplot(x=\"tip\", y=\"day\", data=tips, whis=np.inf)\n",
    "ax = sns.swarmplot(x=\"tip\", y=\"day\", data=tips)"
   ]
  },
  {
   "cell_type": "markdown",
   "metadata": {},
   "source": [
    "![92](./img/92.png)"
   ]
  },
  {
   "cell_type": "markdown",
   "metadata": {},
   "source": [
    "##  小提琴图"
   ]
  },
  {
   "cell_type": "markdown",
   "metadata": {},
   "source": [
    "![64](./img/64.png)"
   ]
  },
  {
   "cell_type": "markdown",
   "metadata": {},
   "source": [
    "①白点代表中位数Q2（即数据中有一半大于中位数，在其之上，另一半小于中位数，在其之下）；\n",
    "②黑色矩形是下四分位数到上四分位数的范围，矩形上边缘为上四分位数Q3，代表数据中有四分之一的数目大于上四分位数，下边缘为下四分位数Q1，代表数据中有四分之一的数目小于下四分位数；\n",
    "四分位间距IQR（上四分位数和下四分为数间距）长短代表非异常数据的分散和对称程度，长则分散，短则集中；\n",
    "③上下贯穿小提琴图的黑线代表最小非异常值min到最大非异常值max的区间，线上下端分别代表上限和下限，超出此范围为异常数据  ；\n",
    "④黑色矩形外部形状为核密度估计，图形纵轴方向长度代表数据弥散程度，横轴方向长度代表在某纵坐标位置数据分布量。\n",
    "今天的内容就到这里啦~\n"
   ]
  },
  {
   "cell_type": "markdown",
   "metadata": {},
   "source": [
    "![42](./img/42.png)"
   ]
  },
  {
   "cell_type": "code",
   "execution_count": null,
   "metadata": {},
   "outputs": [],
   "source": [
    "sns.violinplot(x=\"gender\",y=\"age\",data=data)"
   ]
  },
  {
   "cell_type": "markdown",
   "metadata": {},
   "source": [
    "![43](./img/43.png)"
   ]
  },
  {
   "cell_type": "code",
   "execution_count": null,
   "metadata": {},
   "outputs": [],
   "source": [
    "# split：将split设置为true则绘制分拆的violinplot以比较经过hue拆分后的两个量\n",
    "fig,axes=plt.subplots(2,1)  \n",
    "ax=sns.violinplot(x=\"color\",y=\"age\",data=data,hue=\"smoker\",split=True,ax=axes[0]) #上图，拆分后的图\n",
    "ax=sns.violinplot(x=\"color\",y=\"age\",data=data,hue=\"smoker\",ax=axes[1])  #下图"
   ]
  },
  {
   "cell_type": "markdown",
   "metadata": {},
   "source": [
    "![44](./img/44.png)"
   ]
  },
  {
   "cell_type": "code",
   "execution_count": null,
   "metadata": {},
   "outputs": [],
   "source": [
    "# scale_hue：bool，当使用色调变量（hue参数）嵌套小提琴时，此参数确定缩放是在主要分组变量（scale_hue = true）\n",
    "# 的每个级别内还是在图上的所有小提琴（scale_hue = false）内计算出来的。\n",
    "fig,axes=plt.subplots(2,1)\n",
    "ax=sns.violinplot(x=\"color\",y=\"age\",data=data,hue=\"smoker\",split=True,scale_hue=False,ax=axes[0]) #上图\n",
    "ax=sns.violinplot(x=\"color\",y=\"age\",data=data,hue=\"smoker\",split=True,scale_hue=True,ax=axes[1])  #下图"
   ]
  },
  {
   "cell_type": "markdown",
   "metadata": {},
   "source": [
    "![45](./img/45.png)"
   ]
  },
  {
   "cell_type": "code",
   "execution_count": null,
   "metadata": {},
   "outputs": [],
   "source": [
    "# orient：\"v\"|\"h\" 用于控制图像使水平还是竖直显示（这通常是从输入变量的dtype推断出来的，\n",
    "# 此参数一般当不传入x、y，只传入data的时候使用）\n",
    "fig,axes=plt.subplots(2,1)\n",
    "sns.violinplot(data=data[[\"height\",\"weight\",\"age\"]],orient=\"v\",ax=axes[0]) #上图\n",
    "sns.violinplot(data=data[[\"height\",\"weight\",\"age\"]],orient=\"h\",ax=axes[1]) #下图"
   ]
  },
  {
   "cell_type": "markdown",
   "metadata": {},
   "source": [
    "![46](./img/46.png)"
   ]
  },
  {
   "cell_type": "code",
   "execution_count": null,
   "metadata": {},
   "outputs": [],
   "source": [
    "# inner：控制violinplot内部数据点的表示，有“box”, “quartile”, “point”, “stick”四种方式。\n",
    "fig,axes=plt.subplots(2,2)\n",
    "sns.violinplot(x=\"color\",y=\"age\",data=data,inner=\"box\",ax=axes[0,0])  #钢琴图内显示箱型图（左上）\n",
    "sns.violinplot(x=\"color\",y=\"age\",data=data,inner=\"quartile\",ax=axes[0,1])  #钢琴图内显示四分位数线（右上）\n",
    "sns.violinplot(x=\"color\",y=\"age\",data=data,inner=\"point\",ax=axes[1,0])  #钢琴图内显示具体数据点（左下）\n",
    "sns.violinplot(x=\"color\",y=\"age\",data=data,inner=\"stick\",ax=axes[1,1])  #钢琴图内显示具体数据棒（右下）"
   ]
  },
  {
   "cell_type": "markdown",
   "metadata": {},
   "source": [
    "![47](./img/47.png)"
   ]
  },
  {
   "cell_type": "code",
   "execution_count": null,
   "metadata": {},
   "outputs": [],
   "source": [
    "# scale：该参数用于缩放每把小提琴的宽度，有“area”, “count”, “width”三种方式\n",
    "fig,axes=plt.subplots(3,1)\n",
    "sns.violinplot(x=\"color\",y=\"age\",data=data,scale=\"area\",ax=axes[0]) #如果为\"area\"，每把小提琴将有相同的面积(上图)\n",
    "sns.violinplot(x=\"color\",y=\"age\",data=data,scale=\"count\",ax=axes[1])  #如果为\"count\"，小提琴的宽度将根据该小组中观察的数量来缩放（中图）\n",
    "sns.violinplot(x=\"color\",y=\"age\",data=data,scale=\"width\",ax=axes[2])  #如果为\"age\"，每把小提琴将有相同的宽度（下图）"
   ]
  },
  {
   "cell_type": "markdown",
   "metadata": {},
   "source": [
    "![48](./img/48.png)"
   ]
  },
  {
   "cell_type": "code",
   "execution_count": null,
   "metadata": {},
   "outputs": [],
   "source": [
    "# cut：float，距离，以带宽大小为单位，以控制小提琴图外壳延伸超过内部极端数据点的密度。\n",
    "# 设置为0以将小提琴范围限制在观察数据的范围内（即，在ggplot中具有与trim = true相同的效果)\n",
    "fig,axes=plt.subplots(2,1)\n",
    "sns.violinplot(x=\"age\",y=\"gender\",data=data,ax=axes[0]) #上图\n",
    "sns.violinplot(x=\"age\",y=\"gender\",data=data,cut=0,ax=axes[1])  #下图"
   ]
  },
  {
   "cell_type": "markdown",
   "metadata": {},
   "source": [
    "![49](./img/49.png)"
   ]
  },
  {
   "cell_type": "code",
   "execution_count": null,
   "metadata": {},
   "outputs": [],
   "source": [
    "# width：float，控制钢琴图的宽度（比例）\n",
    "fig,axes=plt.subplots(2,1)\n",
    "sns.violinplot(x=\"color\",y=\"age\",data=data,ax=axes[0],width=0.5)  #上图\n",
    "sns.violinplot(x=\"color\",y=\"age\",data=data,ax=axes[1],width=0.9)  #下图"
   ]
  },
  {
   "cell_type": "markdown",
   "metadata": {},
   "source": [
    "![50](./img/50.png)"
   ]
  },
  {
   "cell_type": "markdown",
   "metadata": {},
   "source": [
    "![44](./img/44.png)"
   ]
  },
  {
   "cell_type": "code",
   "execution_count": null,
   "metadata": {},
   "outputs": [],
   "source": [
    "# 散点图+小提起图\n",
    "# 两条命令一起运行就行了\n",
    "ax = sns.violinplot(x=\"day\", y=\"total_bill\", data=tips,inner=None, color=\".8\")\n",
    "ax = sns.stripplot(x=\"day\", y=\"total_bill\", data=tips,jitter=True)"
   ]
  },
  {
   "cell_type": "markdown",
   "metadata": {},
   "source": [
    "![91](./img/91.png)"
   ]
  },
  {
   "cell_type": "markdown",
   "metadata": {},
   "source": [
    "## 3D"
   ]
  },
  {
   "cell_type": "code",
   "execution_count": null,
   "metadata": {},
   "outputs": [],
   "source": [
    "import numpy as np\n",
    "import matplotlib.pyplot as plt\n",
    "from matplotlib import cm\n",
    "from mpl_toolkits.mplot3d import Axes3D\n",
    "\n",
    "X = np.arange(-5, 5, 0.25)\n",
    "Y = np.arange(-5, 5, 0.25)\n",
    "X, Y = np.meshgrid(X, Y)\n",
    "R = np.sqrt(X**2 + Y**2)\n",
    "Z = np.sin(R)\n",
    "\n",
    "fig = plt.figure()\n",
    "ax = Axes3D(fig)\n",
    "surf=ax.plot_surface(X, Y, Z, rstride=1, cstride=1, cmap=cm.viridis)\n",
    "# Add a color bar which maps values to colors.\n",
    "fig.colorbar(surf, shrink=0.5, aspect=5)\n",
    " \n",
    "plt.show()"
   ]
  },
  {
   "cell_type": "markdown",
   "metadata": {},
   "source": [
    "![85](./img/85.png)"
   ]
  },
  {
   "cell_type": "markdown",
   "metadata": {},
   "source": [
    "## 密度图"
   ]
  },
  {
   "cell_type": "code",
   "execution_count": null,
   "metadata": {},
   "outputs": [],
   "source": [
    "# 双变量密度图，相当于等高线图了\n",
    "# shade 参数改用颜色深浅表示密度的大小，不过不用，就真的是等高线了\n",
    "ax = sns.kdeplot(x, y, shade=True)"
   ]
  },
  {
   "cell_type": "markdown",
   "metadata": {},
   "source": [
    "![96](./img/96.png)"
   ]
  },
  {
   "cell_type": "code",
   "execution_count": null,
   "metadata": {},
   "outputs": [],
   "source": [
    "# 分组绘制双变量的核密度图\n",
    "# 相当于绘制两个核密度图，通过图可以看到密度中心\n",
    "# 类似于挖掘算法中聚类中心绘图\n",
    "iris = sns.load_dataset(\"iris\")\n",
    "setosa = iris.loc[iris.species == \"setosa\"]  # 组1\n",
    "virginica = iris.loc[iris.species == \"virginica\"]  # 组2\n",
    "\n",
    "ax = sns.kdeplot(setosa.sepal_width, setosa.sepal_length, \n",
    "                    cmap=\"Reds\", shade=True, shade_lowest=False)\n",
    "\n",
    "ax = sns.kdeplot(virginica.sepal_width, virginica.sepal_length, \n",
    "                    cmap=\"Blues\", shade=True, shade_lowest=False)"
   ]
  },
  {
   "cell_type": "markdown",
   "metadata": {},
   "source": [
    "![97](./img/97.png)"
   ]
  },
  {
   "cell_type": "code",
   "execution_count": null,
   "metadata": {},
   "outputs": [],
   "source": [
    "# 绘制核密度图\n",
    "iris = sns.load_dataset(\"iris\")\n",
    "g = sns.jointplot(\"sepal_width\", \"petal_length\", data=iris, \n",
    "                    kind=\"kde\", space=0, color=\"g\")"
   ]
  },
  {
   "cell_type": "markdown",
   "metadata": {},
   "source": [
    "![101](./img/101.png)"
   ]
  },
  {
   "cell_type": "code",
   "execution_count": null,
   "metadata": {},
   "outputs": [],
   "source": [
    "# Import Data\n",
    "df = pd.read_csv(\"https://github.com/selva86/datasets/raw/master/mpg_ggplot2.csv\")\n",
    "\n",
    "# Draw Plot\n",
    "plt.figure(figsize=(16,10), dpi= 80)\n",
    "sns.kdeplot(df.loc[df['cyl'] == 4, \"cty\"], shade=True, color=\"g\", label=\"Cyl=4\", alpha=.7)\n",
    "sns.kdeplot(df.loc[df['cyl'] == 5, \"cty\"], shade=True, color=\"deeppink\", label=\"Cyl=5\", alpha=.7)\n",
    "sns.kdeplot(df.loc[df['cyl'] == 6, \"cty\"], shade=True, color=\"dodgerblue\", label=\"Cyl=6\", alpha=.7)\n",
    "sns.kdeplot(df.loc[df['cyl'] == 8, \"cty\"], shade=True, color=\"orange\", label=\"Cyl=8\", alpha=.7)\n",
    "\n",
    "# Decoration\n",
    "plt.title('Density Plot of City Mileage by n_Cylinders', fontsize=22)\n",
    "plt.legend()\n",
    "plt.show()"
   ]
  },
  {
   "cell_type": "markdown",
   "metadata": {},
   "source": [
    "![115](./img/115.png)"
   ]
  },
  {
   "cell_type": "code",
   "execution_count": null,
   "metadata": {},
   "outputs": [],
   "source": [
    "# Import Data\n",
    "df = pd.read_csv(\"https://github.com/selva86/datasets/raw/master/mpg_ggplot2.csv\")\n",
    "\n",
    "# Draw Plot\n",
    "plt.figure(figsize=(13,10), dpi= 80)\n",
    "sns.distplot(df.loc[df['class'] == 'compact', \"cty\"], color=\"dodgerblue\", label=\"Compact\", hist_kws={'alpha':.7}, kde_kws={'linewidth':3})\n",
    "sns.distplot(df.loc[df['class'] == 'suv', \"cty\"], color=\"orange\", label=\"SUV\", hist_kws={'alpha':.7}, kde_kws={'linewidth':3})\n",
    "sns.distplot(df.loc[df['class'] == 'minivan', \"cty\"], color=\"g\", label=\"minivan\", hist_kws={'alpha':.7}, kde_kws={'linewidth':3})\n",
    "plt.ylim(0, 0.35)\n",
    "\n",
    "# Decoration\n",
    "plt.title('Density Plot of City Mileage by Vehicle Type', fontsize=22)\n",
    "plt.legend()\n",
    "plt.show()"
   ]
  },
  {
   "cell_type": "markdown",
   "metadata": {},
   "source": [
    "![116](./img/116.png)"
   ]
  },
  {
   "cell_type": "code",
   "execution_count": null,
   "metadata": {},
   "outputs": [],
   "source": [
    "# !pip install joypy\n",
    "# Python数据之道 备注\n",
    "\n",
    "import joypy\n",
    "\n",
    "# Import Data\n",
    "mpg = pd.read_csv(\"https://github.com/selva86/datasets/raw/master/mpg_ggplot2.csv\")\n",
    "\n",
    "# Draw Plot\n",
    "plt.figure(figsize=(16,10), dpi= 80)\n",
    "fig, axes = joypy.joyplot(mpg, column=['hwy', 'cty'], by=\"class\", ylim='own', figsize=(14,10))\n",
    "\n",
    "# Decoration\n",
    "plt.title('Joy Plot of City and Highway Mileage by Class', fontsize=22)\n",
    "plt.show()"
   ]
  },
  {
   "cell_type": "markdown",
   "metadata": {},
   "source": [
    "![117](./img/117.png)"
   ]
  },
  {
   "cell_type": "markdown",
   "metadata": {},
   "source": [
    "## 树状图"
   ]
  },
  {
   "cell_type": "code",
   "execution_count": null,
   "metadata": {},
   "outputs": [],
   "source": [
    "import scipy.cluster.hierarchy as shc\n",
    "\n",
    "# Import Data\n",
    "df = pd.read_csv('https://raw.githubusercontent.com/selva86/datasets/master/USArrests.csv')\n",
    "\n",
    "# Plot\n",
    "plt.figure(figsize=(16, 10), dpi= 80)  \n",
    "plt.title(\"USArrests Dendograms\", fontsize=22)  \n",
    "dend = shc.dendrogram(shc.linkage(df[['Murder', 'Assault', 'UrbanPop', 'Rape']], method='ward'), labels=df.State.values, color_threshold=100)  \n",
    "plt.xticks(fontsize=12)\n",
    "plt.show()"
   ]
  },
  {
   "cell_type": "markdown",
   "metadata": {},
   "source": [
    "![120](./img/120.png)"
   ]
  },
  {
   "cell_type": "code",
   "execution_count": null,
   "metadata": {},
   "outputs": [],
   "source": []
  }
 ],
 "metadata": {
  "hide_input": false,
  "kernelspec": {
   "display_name": "Python 3",
   "language": "python",
   "name": "python3"
  },
  "language_info": {
   "codemirror_mode": {
    "name": "ipython",
    "version": 3
   },
   "file_extension": ".py",
   "mimetype": "text/x-python",
   "name": "python",
   "nbconvert_exporter": "python",
   "pygments_lexer": "ipython3",
   "version": "3.8.3"
  },
  "nbTranslate": {
   "displayLangs": [
    "*"
   ],
   "hotkey": "alt-t",
   "langInMainMenu": true,
   "sourceLang": "en",
   "targetLang": "fr",
   "useGoogleTranslate": true
  },
  "toc": {
   "base_numbering": 1,
   "nav_menu": {},
   "number_sections": true,
   "sideBar": true,
   "skip_h1_title": false,
   "title_cell": "Table of Contents",
   "title_sidebar": "Contents",
   "toc_cell": false,
   "toc_position": {
    "height": "calc(100% - 180px)",
    "left": "10px",
    "top": "150px",
    "width": "221.548px"
   },
   "toc_section_display": true,
   "toc_window_display": true
  },
  "varInspector": {
   "cols": {
    "lenName": 16,
    "lenType": 16,
    "lenVar": 40
   },
   "kernels_config": {
    "python": {
     "delete_cmd_postfix": "",
     "delete_cmd_prefix": "del ",
     "library": "var_list.py",
     "varRefreshCmd": "print(var_dic_list())"
    },
    "r": {
     "delete_cmd_postfix": ") ",
     "delete_cmd_prefix": "rm(",
     "library": "var_list.r",
     "varRefreshCmd": "cat(var_dic_list()) "
    }
   },
   "types_to_exclude": [
    "module",
    "function",
    "builtin_function_or_method",
    "instance",
    "_Feature"
   ],
   "window_display": false
  }
 },
 "nbformat": 4,
 "nbformat_minor": 4
}
